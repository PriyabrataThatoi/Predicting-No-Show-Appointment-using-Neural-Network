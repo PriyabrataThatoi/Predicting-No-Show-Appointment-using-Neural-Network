{
 "cells": [
  {
   "cell_type": "markdown",
   "metadata": {},
   "source": [
    "### Libraries"
   ]
  },
  {
   "cell_type": "code",
   "execution_count": 1,
   "metadata": {},
   "outputs": [],
   "source": [
    "import time\n",
    "import numpy as np\n",
    "import h5py\n",
    "import matplotlib.pyplot as plt\n",
    "import scipy\n",
    "import os\n",
    "import pandas as pd\n",
    "import missingno as msno\n",
    "from sklearn.model_selection import train_test_split \n",
    "from sklearn.utils import resample\n",
    "from scipy import stats\n",
    "import seaborn as sns\n",
    "import warnings\n",
    "warnings. filterwarnings('ignore')\n",
    "\n",
    "os.chdir(r\"X:\\Priyabrata\\NoSHOW\\noshowappointments\")\n",
    "np.random.seed(123)"
   ]
  },
  {
   "cell_type": "code",
   "execution_count": 2,
   "metadata": {},
   "outputs": [],
   "source": [
    "def knowningData(df, limit=5): #seting the function with df, \n",
    "    print(f\"Dataset Shape: {df.shape}\")\n",
    "    print('Unique values per column: ')\n",
    "    print(df.nunique())\n",
    "    print(\"################\")\n",
    "    print(\"\")    \n",
    "    for column in df.columns: #initializing the loop\n",
    "        print(\"Column Name: \", column )\n",
    "        entropy = round(stats.entropy(df[column].value_counts(normalize=True), base=2),2)\n",
    "        print(\"Entropy \", entropy, \n",
    "              \" | Total nulls: \", (round(df[column].isnull().sum() / len(df[column]) * 100,2)),\n",
    "              \" | Total unique values: \", df.nunique()[column], #print the data and % of nulls\n",
    "              \" | Missing: \", df[column].isna().sum())\n",
    "        print(\"Top 5 most frequent values: \")\n",
    "        print(round(df[column].value_counts(normalize=True)[:5],2))\n",
    "        print(\"\")\n",
    "        print(\"####################################\")\n",
    "\n",
    "def dummies(df, list_cols):\n",
    "    for col in list_cols:\n",
    "        df_dummies = pd.get_dummies(df[col], drop_first=True, \n",
    "                                    prefix=(str(col)))\n",
    "        df = pd.concat([df, df_dummies], axis=1)\n",
    "        df.drop(col, axis=1, inplace=True)\n",
    "        \n",
    "    return df\n",
    "\n",
    "# This function is to extract date features\n",
    "def date_process(df, cols, form=None):\n",
    "    for col in cols:\n",
    "\n",
    "        df[col] = pd.to_datetime(df[col]) # seting the column as pandas datetime\n",
    "        df['_weekdayName_'+str(col)] = df[col].dt.weekday_name #extracting week day\n",
    "        df['_weekday_'+str(col)] = df[col].dt.weekday #extracting week day        \n",
    "        df['_day_'+str(col)] = df[col].dt.day # extracting day\n",
    "        df['_month_'+str(col)] = df[col].dt.month # extracting month\n",
    "        if col == 'ScheduledDay':\n",
    "            df['_hour_'+str(col)] = df[col].dt.hour # extracting hour\n",
    "            df['_minute_'+str(col)] = df[col].dt.minute # extracting minute\n",
    "        # df[col] = df[col].dt.date.astype('datetime64[ns]')\n",
    "        \n",
    "    return df #returning the df after the transformations"
   ]
  },
  {
   "cell_type": "code",
   "execution_count": 3,
   "metadata": {},
   "outputs": [],
   "source": [
    "noshow = pd.read_csv('KaggleV2-May-2016.csv')"
   ]
  },
  {
   "cell_type": "code",
   "execution_count": 4,
   "metadata": {},
   "outputs": [
    {
     "data": {
      "text/html": [
       "<div>\n",
       "<style scoped>\n",
       "    .dataframe tbody tr th:only-of-type {\n",
       "        vertical-align: middle;\n",
       "    }\n",
       "\n",
       "    .dataframe tbody tr th {\n",
       "        vertical-align: top;\n",
       "    }\n",
       "\n",
       "    .dataframe thead th {\n",
       "        text-align: right;\n",
       "    }\n",
       "</style>\n",
       "<table border=\"1\" class=\"dataframe\">\n",
       "  <thead>\n",
       "    <tr style=\"text-align: right;\">\n",
       "      <th></th>\n",
       "      <th>PatientId</th>\n",
       "      <th>AppointmentID</th>\n",
       "      <th>Gender</th>\n",
       "      <th>ScheduledDay</th>\n",
       "      <th>AppointmentDay</th>\n",
       "      <th>Age</th>\n",
       "      <th>Neighbourhood</th>\n",
       "      <th>Scholarship</th>\n",
       "      <th>Hipertension</th>\n",
       "      <th>Diabetes</th>\n",
       "      <th>Alcoholism</th>\n",
       "      <th>Handcap</th>\n",
       "      <th>SMS_received</th>\n",
       "      <th>No-show</th>\n",
       "    </tr>\n",
       "  </thead>\n",
       "  <tbody>\n",
       "    <tr>\n",
       "      <th>0</th>\n",
       "      <td>2.987250e+13</td>\n",
       "      <td>5642903</td>\n",
       "      <td>F</td>\n",
       "      <td>2016-04-29T18:38:08Z</td>\n",
       "      <td>2016-04-29T00:00:00Z</td>\n",
       "      <td>62</td>\n",
       "      <td>JARDIM DA PENHA</td>\n",
       "      <td>0</td>\n",
       "      <td>1</td>\n",
       "      <td>0</td>\n",
       "      <td>0</td>\n",
       "      <td>0</td>\n",
       "      <td>0</td>\n",
       "      <td>No</td>\n",
       "    </tr>\n",
       "    <tr>\n",
       "      <th>1</th>\n",
       "      <td>5.589978e+14</td>\n",
       "      <td>5642503</td>\n",
       "      <td>M</td>\n",
       "      <td>2016-04-29T16:08:27Z</td>\n",
       "      <td>2016-04-29T00:00:00Z</td>\n",
       "      <td>56</td>\n",
       "      <td>JARDIM DA PENHA</td>\n",
       "      <td>0</td>\n",
       "      <td>0</td>\n",
       "      <td>0</td>\n",
       "      <td>0</td>\n",
       "      <td>0</td>\n",
       "      <td>0</td>\n",
       "      <td>No</td>\n",
       "    </tr>\n",
       "    <tr>\n",
       "      <th>2</th>\n",
       "      <td>4.262962e+12</td>\n",
       "      <td>5642549</td>\n",
       "      <td>F</td>\n",
       "      <td>2016-04-29T16:19:04Z</td>\n",
       "      <td>2016-04-29T00:00:00Z</td>\n",
       "      <td>62</td>\n",
       "      <td>MATA DA PRAIA</td>\n",
       "      <td>0</td>\n",
       "      <td>0</td>\n",
       "      <td>0</td>\n",
       "      <td>0</td>\n",
       "      <td>0</td>\n",
       "      <td>0</td>\n",
       "      <td>No</td>\n",
       "    </tr>\n",
       "    <tr>\n",
       "      <th>3</th>\n",
       "      <td>8.679512e+11</td>\n",
       "      <td>5642828</td>\n",
       "      <td>F</td>\n",
       "      <td>2016-04-29T17:29:31Z</td>\n",
       "      <td>2016-04-29T00:00:00Z</td>\n",
       "      <td>8</td>\n",
       "      <td>PONTAL DE CAMBURI</td>\n",
       "      <td>0</td>\n",
       "      <td>0</td>\n",
       "      <td>0</td>\n",
       "      <td>0</td>\n",
       "      <td>0</td>\n",
       "      <td>0</td>\n",
       "      <td>No</td>\n",
       "    </tr>\n",
       "    <tr>\n",
       "      <th>4</th>\n",
       "      <td>8.841186e+12</td>\n",
       "      <td>5642494</td>\n",
       "      <td>F</td>\n",
       "      <td>2016-04-29T16:07:23Z</td>\n",
       "      <td>2016-04-29T00:00:00Z</td>\n",
       "      <td>56</td>\n",
       "      <td>JARDIM DA PENHA</td>\n",
       "      <td>0</td>\n",
       "      <td>1</td>\n",
       "      <td>1</td>\n",
       "      <td>0</td>\n",
       "      <td>0</td>\n",
       "      <td>0</td>\n",
       "      <td>No</td>\n",
       "    </tr>\n",
       "  </tbody>\n",
       "</table>\n",
       "</div>"
      ],
      "text/plain": [
       "      PatientId  AppointmentID Gender          ScheduledDay  \\\n",
       "0  2.987250e+13        5642903      F  2016-04-29T18:38:08Z   \n",
       "1  5.589978e+14        5642503      M  2016-04-29T16:08:27Z   \n",
       "2  4.262962e+12        5642549      F  2016-04-29T16:19:04Z   \n",
       "3  8.679512e+11        5642828      F  2016-04-29T17:29:31Z   \n",
       "4  8.841186e+12        5642494      F  2016-04-29T16:07:23Z   \n",
       "\n",
       "         AppointmentDay  Age      Neighbourhood  Scholarship  Hipertension  \\\n",
       "0  2016-04-29T00:00:00Z   62    JARDIM DA PENHA            0             1   \n",
       "1  2016-04-29T00:00:00Z   56    JARDIM DA PENHA            0             0   \n",
       "2  2016-04-29T00:00:00Z   62      MATA DA PRAIA            0             0   \n",
       "3  2016-04-29T00:00:00Z    8  PONTAL DE CAMBURI            0             0   \n",
       "4  2016-04-29T00:00:00Z   56    JARDIM DA PENHA            0             1   \n",
       "\n",
       "   Diabetes  Alcoholism  Handcap  SMS_received No-show  \n",
       "0         0           0        0             0      No  \n",
       "1         0           0        0             0      No  \n",
       "2         0           0        0             0      No  \n",
       "3         0           0        0             0      No  \n",
       "4         1           0        0             0      No  "
      ]
     },
     "execution_count": 4,
     "metadata": {},
     "output_type": "execute_result"
    }
   ],
   "source": [
    "noshow.head(5)"
   ]
  },
  {
   "cell_type": "markdown",
   "metadata": {},
   "source": [
    "### Analyzing data"
   ]
  },
  {
   "cell_type": "code",
   "execution_count": 5,
   "metadata": {
    "scrolled": false
   },
   "outputs": [
    {
     "name": "stdout",
     "output_type": "stream",
     "text": [
      "Dataset Shape: (110527, 12)\n",
      "Unique values per column: \n",
      "Gender                 2\n",
      "ScheduledDay      103549\n",
      "AppointmentDay        27\n",
      "Age                  104\n",
      "Neighbourhood         81\n",
      "Scholarship            2\n",
      "Hipertension           2\n",
      "Diabetes               2\n",
      "Alcoholism             2\n",
      "Handcap                5\n",
      "SMS_received           2\n",
      "No-show                2\n",
      "dtype: int64\n",
      "################\n",
      "\n",
      "Column Name:  Gender\n",
      "Entropy  0.93  | Total nulls:  0.0  | Total unique values:  2  | Missing:  0\n",
      "Top 5 most frequent values: \n",
      "F    0.65\n",
      "M    0.35\n",
      "Name: Gender, dtype: float64\n",
      "\n",
      "####################################\n",
      "Column Name:  ScheduledDay\n",
      "Entropy  16.61  | Total nulls:  0.0  | Total unique values:  103549  | Missing:  0\n",
      "Top 5 most frequent values: \n",
      "2016-05-06T07:09:54Z    0.0\n",
      "2016-05-06T07:09:53Z    0.0\n",
      "2016-04-25T17:18:27Z    0.0\n",
      "2016-04-25T17:17:46Z    0.0\n",
      "2016-04-25T17:17:23Z    0.0\n",
      "Name: ScheduledDay, dtype: float64\n",
      "\n",
      "####################################\n",
      "Column Name:  AppointmentDay\n",
      "Entropy  4.7  | Total nulls:  0.0  | Total unique values:  27  | Missing:  0\n",
      "Top 5 most frequent values: \n",
      "2016-06-06T00:00:00Z    0.04\n",
      "2016-05-16T00:00:00Z    0.04\n",
      "2016-05-09T00:00:00Z    0.04\n",
      "2016-05-30T00:00:00Z    0.04\n",
      "2016-06-08T00:00:00Z    0.04\n",
      "Name: AppointmentDay, dtype: float64\n",
      "\n",
      "####################################\n",
      "Column Name:  Age\n",
      "Entropy  6.37  | Total nulls:  0.0  | Total unique values:  104  | Missing:  0\n",
      "Top 5 most frequent values: \n",
      "0     0.03\n",
      "1     0.02\n",
      "52    0.02\n",
      "49    0.01\n",
      "53    0.01\n",
      "Name: Age, dtype: float64\n",
      "\n",
      "####################################\n",
      "Column Name:  Neighbourhood\n",
      "Entropy  5.72  | Total nulls:  0.0  | Total unique values:  81  | Missing:  0\n",
      "Top 5 most frequent values: \n",
      "JARDIM CAMBURI     0.07\n",
      "MARIA ORTIZ        0.05\n",
      "RESISTÊNCIA        0.04\n",
      "JARDIM DA PENHA    0.04\n",
      "ITARARÉ            0.03\n",
      "Name: Neighbourhood, dtype: float64\n",
      "\n",
      "####################################\n",
      "Column Name:  Scholarship\n",
      "Entropy  0.46  | Total nulls:  0.0  | Total unique values:  2  | Missing:  0\n",
      "Top 5 most frequent values: \n",
      "0    0.9\n",
      "1    0.1\n",
      "Name: Scholarship, dtype: float64\n",
      "\n",
      "####################################\n",
      "Column Name:  Hipertension\n",
      "Entropy  0.72  | Total nulls:  0.0  | Total unique values:  2  | Missing:  0\n",
      "Top 5 most frequent values: \n",
      "0    0.8\n",
      "1    0.2\n",
      "Name: Hipertension, dtype: float64\n",
      "\n",
      "####################################\n",
      "Column Name:  Diabetes\n",
      "Entropy  0.37  | Total nulls:  0.0  | Total unique values:  2  | Missing:  0\n",
      "Top 5 most frequent values: \n",
      "0    0.93\n",
      "1    0.07\n",
      "Name: Diabetes, dtype: float64\n",
      "\n",
      "####################################\n",
      "Column Name:  Alcoholism\n",
      "Entropy  0.2  | Total nulls:  0.0  | Total unique values:  2  | Missing:  0\n",
      "Top 5 most frequent values: \n",
      "0    0.97\n",
      "1    0.03\n",
      "Name: Alcoholism, dtype: float64\n",
      "\n",
      "####################################\n",
      "Column Name:  Handcap\n",
      "Entropy  0.15  | Total nulls:  0.0  | Total unique values:  5  | Missing:  0\n",
      "Top 5 most frequent values: \n",
      "0    0.98\n",
      "1    0.02\n",
      "2    0.00\n",
      "3    0.00\n",
      "4    0.00\n",
      "Name: Handcap, dtype: float64\n",
      "\n",
      "####################################\n",
      "Column Name:  SMS_received\n",
      "Entropy  0.91  | Total nulls:  0.0  | Total unique values:  2  | Missing:  0\n",
      "Top 5 most frequent values: \n",
      "0    0.68\n",
      "1    0.32\n",
      "Name: SMS_received, dtype: float64\n",
      "\n",
      "####################################\n",
      "Column Name:  No-show\n",
      "Entropy  0.73  | Total nulls:  0.0  | Total unique values:  2  | Missing:  0\n",
      "Top 5 most frequent values: \n",
      "No     0.8\n",
      "Yes    0.2\n",
      "Name: No-show, dtype: float64\n",
      "\n",
      "####################################\n"
     ]
    }
   ],
   "source": [
    "knowningData(noshow.drop(['PatientId', 'AppointmentID'], axis=1))"
   ]
  },
  {
   "cell_type": "code",
   "execution_count": 6,
   "metadata": {},
   "outputs": [],
   "source": [
    "#Features and data types\n",
    "binary_features = ['Scholarship', 'Hipertension', 'Diabetes',\n",
    "                   'Alcoholism', 'SMS_received', 'Gender']\n",
    "target = ['No-show']\n",
    "categorical = ['Neighbourhood', 'Handcap']\n",
    "numerical = ['Age']\n",
    "dates = ['AppointmentDay', 'ScheduledDay']\n",
    "Ids = ['PatientId', 'AppointmentID']"
   ]
  },
  {
   "cell_type": "code",
   "execution_count": 7,
   "metadata": {},
   "outputs": [
    {
     "name": "stdout",
     "output_type": "stream",
     "text": [
      "Total of Unique Patients is 62299 and Appointments is 110527\n",
      "Shape after filtering Data: (110519, 24)\n"
     ]
    }
   ],
   "source": [
    "## Transforming dates to datetime\n",
    "noshow_clean= date_process(noshow, dates)\n",
    "\n",
    "print(f\"Total of Unique Patients is {noshow_clean.PatientId.nunique()} and Appointments is {noshow_clean.AppointmentID.nunique()}\")\n",
    "\n",
    "noshow_clean_age = noshow_clean[(noshow_clean.Age >= 0 ) & (noshow_clean.Age <= 100)]\n",
    "print(f\"Shape after filtering Data: {noshow_clean_age.shape}\")"
   ]
  },
  {
   "cell_type": "markdown",
   "metadata": {},
   "source": [
    "**Age**"
   ]
  },
  {
   "cell_type": "code",
   "execution_count": 8,
   "metadata": {},
   "outputs": [],
   "source": [
    "#Creating Age bins and categories\n",
    "bin_ranges = [-1, 2, 8, 16, 18, 25, 40, 50, 60, 75]\n",
    "bin_names = [\"Baby\", \"Children\", \"Teenager\", 'Young', 'Young-Adult', 'Adult', 'Adult-II', 'Senior', 'Old']\n",
    "\n",
    "noshow_clean_age['age_bin'] = pd.cut(np.array(noshow_clean_age['Age']),\n",
    "                               bins=bin_ranges, labels=bin_names)"
   ]
  },
  {
   "cell_type": "code",
   "execution_count": 10,
   "metadata": {},
   "outputs": [
    {
     "data": {
      "image/png": "[encoded data removed]",
      "text/plain": [
       "<Figure size 936x720 with 2 Axes>"
      ]
     },
     "metadata": {
      "needs_background": "light"
     },
     "output_type": "display_data"
    }
   ],
   "source": [
    "# now stack and reset\n",
    "show_prob_age = pd.crosstab(noshow_clean_age['age_bin'], noshow_clean_age['No-show'], normalize='index')\n",
    "stacked = show_prob_age.unstack().reset_index().rename(columns={0:'value'})\n",
    "\n",
    "plt.figure(figsize=(13,10))\n",
    "plt.subplot(211)\n",
    "ax1 = sns.countplot(x=\"age_bin\", data=noshow_clean_age)\n",
    "ax1.set_title(\"Age Bins Count\", fontsize=22)\n",
    "ax1.set_xlabel(\"Age Categories\", fontsize=18)\n",
    "ax1.set_ylabel(\"Count\", fontsize=18)\n",
    "\n",
    "plt.subplot(212)\n",
    "ax2 = sns.barplot(x=stacked.age_bin, y=stacked.value, hue=stacked['No-show'])\n",
    "ax2.set_title(\"Age Bins by Show and No-show Patients\", fontsize=22)\n",
    "ax2.set_xlabel(\"Age Categories\", fontsize=18)\n",
    "ax2.set_ylabel(\"Count\", fontsize=18)\n",
    "ax2.legend(loc='out')\n",
    "\n",
    "plt.subplots_adjust(hspace = 0.4)\n",
    "plt.show()"
   ]
  },
  {
   "cell_type": "markdown",
   "metadata": {},
   "source": [
    "**Binary Features**"
   ]
  },
  {
   "cell_type": "code",
   "execution_count": 12,
   "metadata": {},
   "outputs": [
    {
     "data": {
      "image/png": "[encoded data removed]",
      "text/plain": [
       "<Figure size 1440x1080 with 6 Axes>"
      ]
     },
     "metadata": {
      "needs_background": "light"
     },
     "output_type": "display_data"
    }
   ],
   "source": [
    "fig, axes = plt.subplots(nrows=3, ncols=2, figsize=(20,15))\n",
    "fig.subplots_adjust(hspace=0.3)\n",
    "fig.suptitle('BINARY FEATURES by the TARGET feature', fontsize=22)\n",
    "\n",
    "for ax, catplot in zip(axes.flatten(), noshow_clean_age[binary_features].columns):\n",
    "    sns.countplot(x=catplot, data=noshow_clean_age, hue='No-show', ax=ax)\n",
    "    ax.set_title(catplot.upper(), fontsize=18)\n",
    "    ax.set_ylabel('Count', fontsize=16)\n",
    "    ax.set_xlabel(f'{catplot.upper()} Binary Options', fontsize=15)\n",
    "    ax.legend(title='No-show', fontsize=12, )"
   ]
  },
  {
   "cell_type": "markdown",
   "metadata": {},
   "source": [
    "**SMS received**"
   ]
  },
  {
   "cell_type": "code",
   "execution_count": 13,
   "metadata": {},
   "outputs": [],
   "source": [
    "sms_received = noshow_clean_age.groupby([noshow_clean_age['AppointmentDay'].dt.date,\n",
    "                                 \"SMS_received\", \"No-show\"])['PatientId'].count().reset_index().rename(columns={'PatientId': \"Total\"})"
   ]
  },
  {
   "cell_type": "code",
   "execution_count": 15,
   "metadata": {},
   "outputs": [
    {
     "data": {
      "image/png": "[encoded data removed]",
      "text/plain": [
       "<Figure size 1296x1152 with 3 Axes>"
      ]
     },
     "metadata": {
      "needs_background": "light"
     },
     "output_type": "display_data"
    }
   ],
   "source": [
    "plt.figure(figsize=(18,16))\n",
    "\n",
    "plt.subplot(3,1,1)\n",
    "g = sns.barplot(x='AppointmentDay', y= 'Total', hue='No-show', data=sms_received[sms_received['SMS_received'] == 0])\n",
    "g.set_xticklabels(g.get_xticklabels(),rotation=45)\n",
    "g.set_title(\"Count of Patients that No Received SMS by No-show feature\", fontsize=22)\n",
    "g.set_xlabel(\"Dates\", fontsize=18)\n",
    "g.set_ylabel(\"Count\", fontsize=18)\n",
    "\n",
    "plt.subplot(3,1,2)\n",
    "g1 = sns.barplot(x='AppointmentDay', y= 'Total', hue='No-show', data=sms_received[sms_received['SMS_received'] == 1])\n",
    "g1.set_xticklabels(g.get_xticklabels(),rotation=45)\n",
    "g1.set_title(\"Count of Patients that Received SMS by No-show feature\", fontsize=22)\n",
    "g1.set_xlabel(\"Dates\", fontsize=18)\n",
    "g1.set_ylabel(\"Count\", fontsize=18)\n",
    "\n",
    "plt.subplot(3,1,3)\n",
    "g2 = sns.boxplot(x='SMS_received', y= 'Age', hue='No-show', data=noshow_clean_age)\n",
    "g2.set_xticklabels(g2.get_xticklabels(),rotation=0)\n",
    "g2.set_title(\"Received SMS or Not with Age Distribution by No-show feature\", fontsize=22)\n",
    "g2.set_xlabel(\"Receive SMS or NOT\", fontsize=18)\n",
    "g2.set_ylabel(\"Age Distribution\", fontsize=18)\n",
    "\n",
    "plt.subplots_adjust(hspace = 0.6)\n",
    "plt.show()"
   ]
  },
  {
   "cell_type": "markdown",
   "metadata": {},
   "source": [
    "**Waiting Days**"
   ]
  },
  {
   "cell_type": "code",
   "execution_count": 16,
   "metadata": {},
   "outputs": [
    {
     "data": {
      "text/html": [
       "<div>\n",
       "<style scoped>\n",
       "    .dataframe tbody tr th:only-of-type {\n",
       "        vertical-align: middle;\n",
       "    }\n",
       "\n",
       "    .dataframe tbody tr th {\n",
       "        vertical-align: top;\n",
       "    }\n",
       "\n",
       "    .dataframe thead th {\n",
       "        text-align: right;\n",
       "    }\n",
       "</style>\n",
       "<table border=\"1\" class=\"dataframe\">\n",
       "  <thead>\n",
       "    <tr style=\"text-align: right;\">\n",
       "      <th></th>\n",
       "      <th>Gender</th>\n",
       "      <th>Age</th>\n",
       "      <th>Scholarship</th>\n",
       "      <th>Hipertension</th>\n",
       "      <th>Diabetes</th>\n",
       "      <th>Alcoholism</th>\n",
       "      <th>SMS_received</th>\n",
       "      <th>No-show</th>\n",
       "      <th>_weekday_AppointmentDay</th>\n",
       "      <th>_day_AppointmentDay</th>\n",
       "      <th>...</th>\n",
       "      <th>Neighbourhood_SÃO CRISTÓVÃO</th>\n",
       "      <th>Neighbourhood_SÃO JOSÉ</th>\n",
       "      <th>Neighbourhood_SÃO PEDRO</th>\n",
       "      <th>Neighbourhood_TABUAZEIRO</th>\n",
       "      <th>Neighbourhood_UNIVERSITÁRIO</th>\n",
       "      <th>Neighbourhood_VILA RUBIM</th>\n",
       "      <th>Handcap_1</th>\n",
       "      <th>Handcap_2</th>\n",
       "      <th>Handcap_3</th>\n",
       "      <th>Handcap_4</th>\n",
       "    </tr>\n",
       "  </thead>\n",
       "  <tbody>\n",
       "    <tr>\n",
       "      <th>0</th>\n",
       "      <td>0</td>\n",
       "      <td>62</td>\n",
       "      <td>0</td>\n",
       "      <td>1</td>\n",
       "      <td>0</td>\n",
       "      <td>0</td>\n",
       "      <td>0</td>\n",
       "      <td>0</td>\n",
       "      <td>4</td>\n",
       "      <td>29</td>\n",
       "      <td>...</td>\n",
       "      <td>0</td>\n",
       "      <td>0</td>\n",
       "      <td>0</td>\n",
       "      <td>0</td>\n",
       "      <td>0</td>\n",
       "      <td>0</td>\n",
       "      <td>0</td>\n",
       "      <td>0</td>\n",
       "      <td>0</td>\n",
       "      <td>0</td>\n",
       "    </tr>\n",
       "    <tr>\n",
       "      <th>1</th>\n",
       "      <td>1</td>\n",
       "      <td>56</td>\n",
       "      <td>0</td>\n",
       "      <td>0</td>\n",
       "      <td>0</td>\n",
       "      <td>0</td>\n",
       "      <td>0</td>\n",
       "      <td>0</td>\n",
       "      <td>4</td>\n",
       "      <td>29</td>\n",
       "      <td>...</td>\n",
       "      <td>0</td>\n",
       "      <td>0</td>\n",
       "      <td>0</td>\n",
       "      <td>0</td>\n",
       "      <td>0</td>\n",
       "      <td>0</td>\n",
       "      <td>0</td>\n",
       "      <td>0</td>\n",
       "      <td>0</td>\n",
       "      <td>0</td>\n",
       "    </tr>\n",
       "    <tr>\n",
       "      <th>2</th>\n",
       "      <td>0</td>\n",
       "      <td>62</td>\n",
       "      <td>0</td>\n",
       "      <td>0</td>\n",
       "      <td>0</td>\n",
       "      <td>0</td>\n",
       "      <td>0</td>\n",
       "      <td>0</td>\n",
       "      <td>4</td>\n",
       "      <td>29</td>\n",
       "      <td>...</td>\n",
       "      <td>0</td>\n",
       "      <td>0</td>\n",
       "      <td>0</td>\n",
       "      <td>0</td>\n",
       "      <td>0</td>\n",
       "      <td>0</td>\n",
       "      <td>0</td>\n",
       "      <td>0</td>\n",
       "      <td>0</td>\n",
       "      <td>0</td>\n",
       "    </tr>\n",
       "    <tr>\n",
       "      <th>3</th>\n",
       "      <td>0</td>\n",
       "      <td>8</td>\n",
       "      <td>0</td>\n",
       "      <td>0</td>\n",
       "      <td>0</td>\n",
       "      <td>0</td>\n",
       "      <td>0</td>\n",
       "      <td>0</td>\n",
       "      <td>4</td>\n",
       "      <td>29</td>\n",
       "      <td>...</td>\n",
       "      <td>0</td>\n",
       "      <td>0</td>\n",
       "      <td>0</td>\n",
       "      <td>0</td>\n",
       "      <td>0</td>\n",
       "      <td>0</td>\n",
       "      <td>0</td>\n",
       "      <td>0</td>\n",
       "      <td>0</td>\n",
       "      <td>0</td>\n",
       "    </tr>\n",
       "    <tr>\n",
       "      <th>4</th>\n",
       "      <td>0</td>\n",
       "      <td>56</td>\n",
       "      <td>0</td>\n",
       "      <td>1</td>\n",
       "      <td>1</td>\n",
       "      <td>0</td>\n",
       "      <td>0</td>\n",
       "      <td>0</td>\n",
       "      <td>4</td>\n",
       "      <td>29</td>\n",
       "      <td>...</td>\n",
       "      <td>0</td>\n",
       "      <td>0</td>\n",
       "      <td>0</td>\n",
       "      <td>0</td>\n",
       "      <td>0</td>\n",
       "      <td>0</td>\n",
       "      <td>0</td>\n",
       "      <td>0</td>\n",
       "      <td>0</td>\n",
       "      <td>0</td>\n",
       "    </tr>\n",
       "  </tbody>\n",
       "</table>\n",
       "<p>5 rows × 101 columns</p>\n",
       "</div>"
      ],
      "text/plain": [
       "   Gender  Age  Scholarship  Hipertension  Diabetes  Alcoholism  SMS_received  \\\n",
       "0       0   62            0             1         0           0             0   \n",
       "1       1   56            0             0         0           0             0   \n",
       "2       0   62            0             0         0           0             0   \n",
       "3       0    8            0             0         0           0             0   \n",
       "4       0   56            0             1         1           0             0   \n",
       "\n",
       "   No-show  _weekday_AppointmentDay  _day_AppointmentDay  ...  \\\n",
       "0        0                        4                   29  ...   \n",
       "1        0                        4                   29  ...   \n",
       "2        0                        4                   29  ...   \n",
       "3        0                        4                   29  ...   \n",
       "4        0                        4                   29  ...   \n",
       "\n",
       "   Neighbourhood_SÃO CRISTÓVÃO  Neighbourhood_SÃO JOSÉ  \\\n",
       "0                            0                       0   \n",
       "1                            0                       0   \n",
       "2                            0                       0   \n",
       "3                            0                       0   \n",
       "4                            0                       0   \n",
       "\n",
       "   Neighbourhood_SÃO PEDRO  Neighbourhood_TABUAZEIRO  \\\n",
       "0                        0                         0   \n",
       "1                        0                         0   \n",
       "2                        0                         0   \n",
       "3                        0                         0   \n",
       "4                        0                         0   \n",
       "\n",
       "   Neighbourhood_UNIVERSITÁRIO  Neighbourhood_VILA RUBIM  Handcap_1  \\\n",
       "0                            0                         0          0   \n",
       "1                            0                         0          0   \n",
       "2                            0                         0          0   \n",
       "3                            0                         0          0   \n",
       "4                            0                         0          0   \n",
       "\n",
       "   Handcap_2  Handcap_3  Handcap_4  \n",
       "0          0          0          0  \n",
       "1          0          0          0  \n",
       "2          0          0          0  \n",
       "3          0          0          0  \n",
       "4          0          0          0  \n",
       "\n",
       "[5 rows x 101 columns]"
      ]
     },
     "execution_count": 16,
     "metadata": {},
     "output_type": "execute_result"
    }
   ],
   "source": [
    "## Creating a feature that is the difference between the schedule and the appointment \n",
    "noshow_clean_age['waiting_days'] = (noshow_clean_age['AppointmentDay'] - noshow_clean_age['ScheduledDay']).dt.days\n",
    "noshow_clean_age = noshow_clean_age[(noshow_clean_age['waiting_days'] >= -1) & (noshow_clean_age['waiting_days'] <=100)]\n",
    "noshow_clean_age.Gender = noshow_clean_age['Gender'].map({\"F\":0, \"M\":1})\n",
    "noshow_clean_age['No-show'] = noshow_clean_age['No-show'].map({\"No\":0, \"Yes\":1})\n",
    "noshow_clean_age = dummies(noshow_clean_age, categorical)\n",
    "noshow_clean_age.drop(['_weekdayName_AppointmentDay', 'AppointmentID', 'PatientId', 'age_bin',\n",
    "                         'ScheduledDay', 'AppointmentDay', '_weekdayName_AppointmentDay',\n",
    "                         '_weekdayName_ScheduledDay'], axis=1, inplace=True)\n",
    "noshow_clean_age.head()"
   ]
  },
  {
   "cell_type": "markdown",
   "metadata": {},
   "source": [
    "**TRAIN & TEST DATASET**"
   ]
  },
  {
   "cell_type": "code",
   "execution_count": 24,
   "metadata": {},
   "outputs": [
    {
     "name": "stdout",
     "output_type": "stream",
     "text": [
      "Training shape (77263, 100)\n",
      "Test shape (33114, 100)\n"
     ]
    }
   ],
   "source": [
    "#CREATING X & Y\n",
    "#noshow_clean_age.rename(columns={'No-show':'noshow'},inplace=True)\n",
    "X = noshow_clean_age.drop(['noshow'],axis=1)\n",
    "y = noshow_clean_age['noshow']\n",
    "\n",
    "#cont_features = ['Noshow24NBR', 'CancellationsNBR', 'Rescheduled24NBR', 'Confirmed24NBR','cnt_prov', 'that_provider_cnt', 'noshow_rate', 'age',\n",
    "       #'duration', 'daysfuture', 'cancelled_rate', 'rescheduled_rate',\n",
    "       #'avg_checkintoappt', 'num_officevisits_NBR', 'num_drugs', 'num_prescriptions']\n",
    "\n",
    "#STANDARDIZED THE RECORDS\n",
    "#normalized_df=(X[cont_features]-X[cont_features].mean())/X[cont_features].std()\n",
    "#col_obj_list = X.columns[X.columns.isin(cont_features) == False]\n",
    "#X = pd.merge(normalized_df, X[col_obj_list], left_index = True, right_index = True)\n",
    "#SPLITTING INTO TRAIN & TEST\n",
    "X_train, X_test, Y_train, Y_test = train_test_split(X, y,test_size=0.3, random_state=73)\n",
    "print('Training shape' , X_train.shape)\n",
    "print('Test shape', X_test.shape)"
   ]
  },
  {
   "cell_type": "markdown",
   "metadata": {},
   "source": [
    "**RESAMPLING**"
   ]
  },
  {
   "cell_type": "code",
   "execution_count": 25,
   "metadata": {},
   "outputs": [
    {
     "name": "stdout",
     "output_type": "stream",
     "text": [
      "1    61653\n",
      "0    61653\n",
      "Name: noshow, dtype: int64\n"
     ]
    }
   ],
   "source": [
    "# separate minority and majority classes\n",
    "# concatenate our training data back together\n",
    "XT = pd.concat([X_train, Y_train], axis=1)\n",
    "show = XT[XT.noshow==0]\n",
    "noshow_r = XT[XT.noshow==1]\n",
    "\n",
    "# upsample minority\n",
    "noshow_upsampled = resample(noshow_r,\n",
    "                          replace=True, # sample with replacement\n",
    "                          n_samples=len(show), # match number in majority class\n",
    "                          random_state=27) # reproducible results\n",
    "\n",
    "# combine majority and upsampled minority\n",
    "XT_r = pd.concat([show, noshow_upsampled])\n",
    "\n",
    "print(XT_r.noshow.value_counts())"
   ]
  },
  {
   "cell_type": "code",
   "execution_count": 26,
   "metadata": {},
   "outputs": [
    {
     "data": {
      "text/html": [
       "<div>\n",
       "<style scoped>\n",
       "    .dataframe tbody tr th:only-of-type {\n",
       "        vertical-align: middle;\n",
       "    }\n",
       "\n",
       "    .dataframe tbody tr th {\n",
       "        vertical-align: top;\n",
       "    }\n",
       "\n",
       "    .dataframe thead th {\n",
       "        text-align: right;\n",
       "    }\n",
       "</style>\n",
       "<table border=\"1\" class=\"dataframe\">\n",
       "  <thead>\n",
       "    <tr style=\"text-align: right;\">\n",
       "      <th></th>\n",
       "      <th>Gender</th>\n",
       "      <th>Age</th>\n",
       "      <th>Scholarship</th>\n",
       "      <th>Hipertension</th>\n",
       "      <th>Diabetes</th>\n",
       "      <th>Alcoholism</th>\n",
       "      <th>SMS_received</th>\n",
       "      <th>_weekday_AppointmentDay</th>\n",
       "      <th>_day_AppointmentDay</th>\n",
       "      <th>_month_AppointmentDay</th>\n",
       "      <th>...</th>\n",
       "      <th>Neighbourhood_SÃO JOSÉ</th>\n",
       "      <th>Neighbourhood_SÃO PEDRO</th>\n",
       "      <th>Neighbourhood_TABUAZEIRO</th>\n",
       "      <th>Neighbourhood_UNIVERSITÁRIO</th>\n",
       "      <th>Neighbourhood_VILA RUBIM</th>\n",
       "      <th>Handcap_1</th>\n",
       "      <th>Handcap_2</th>\n",
       "      <th>Handcap_3</th>\n",
       "      <th>Handcap_4</th>\n",
       "      <th>noshow</th>\n",
       "    </tr>\n",
       "  </thead>\n",
       "  <tbody>\n",
       "    <tr>\n",
       "      <th>88155</th>\n",
       "      <td>1</td>\n",
       "      <td>27</td>\n",
       "      <td>0</td>\n",
       "      <td>0</td>\n",
       "      <td>1</td>\n",
       "      <td>0</td>\n",
       "      <td>0</td>\n",
       "      <td>1</td>\n",
       "      <td>7</td>\n",
       "      <td>6</td>\n",
       "      <td>...</td>\n",
       "      <td>0</td>\n",
       "      <td>0</td>\n",
       "      <td>0</td>\n",
       "      <td>0</td>\n",
       "      <td>0</td>\n",
       "      <td>0</td>\n",
       "      <td>0</td>\n",
       "      <td>0</td>\n",
       "      <td>0</td>\n",
       "      <td>0</td>\n",
       "    </tr>\n",
       "    <tr>\n",
       "      <th>89615</th>\n",
       "      <td>1</td>\n",
       "      <td>2</td>\n",
       "      <td>0</td>\n",
       "      <td>0</td>\n",
       "      <td>0</td>\n",
       "      <td>0</td>\n",
       "      <td>1</td>\n",
       "      <td>2</td>\n",
       "      <td>1</td>\n",
       "      <td>6</td>\n",
       "      <td>...</td>\n",
       "      <td>0</td>\n",
       "      <td>0</td>\n",
       "      <td>0</td>\n",
       "      <td>0</td>\n",
       "      <td>0</td>\n",
       "      <td>0</td>\n",
       "      <td>0</td>\n",
       "      <td>0</td>\n",
       "      <td>0</td>\n",
       "      <td>0</td>\n",
       "    </tr>\n",
       "    <tr>\n",
       "      <th>78780</th>\n",
       "      <td>0</td>\n",
       "      <td>61</td>\n",
       "      <td>0</td>\n",
       "      <td>0</td>\n",
       "      <td>0</td>\n",
       "      <td>0</td>\n",
       "      <td>0</td>\n",
       "      <td>0</td>\n",
       "      <td>2</td>\n",
       "      <td>5</td>\n",
       "      <td>...</td>\n",
       "      <td>0</td>\n",
       "      <td>0</td>\n",
       "      <td>0</td>\n",
       "      <td>0</td>\n",
       "      <td>0</td>\n",
       "      <td>0</td>\n",
       "      <td>0</td>\n",
       "      <td>0</td>\n",
       "      <td>0</td>\n",
       "      <td>0</td>\n",
       "    </tr>\n",
       "    <tr>\n",
       "      <th>32436</th>\n",
       "      <td>0</td>\n",
       "      <td>17</td>\n",
       "      <td>0</td>\n",
       "      <td>0</td>\n",
       "      <td>0</td>\n",
       "      <td>0</td>\n",
       "      <td>0</td>\n",
       "      <td>4</td>\n",
       "      <td>13</td>\n",
       "      <td>5</td>\n",
       "      <td>...</td>\n",
       "      <td>0</td>\n",
       "      <td>0</td>\n",
       "      <td>0</td>\n",
       "      <td>0</td>\n",
       "      <td>0</td>\n",
       "      <td>0</td>\n",
       "      <td>0</td>\n",
       "      <td>0</td>\n",
       "      <td>0</td>\n",
       "      <td>0</td>\n",
       "    </tr>\n",
       "    <tr>\n",
       "      <th>46355</th>\n",
       "      <td>1</td>\n",
       "      <td>33</td>\n",
       "      <td>0</td>\n",
       "      <td>0</td>\n",
       "      <td>0</td>\n",
       "      <td>0</td>\n",
       "      <td>0</td>\n",
       "      <td>2</td>\n",
       "      <td>11</td>\n",
       "      <td>5</td>\n",
       "      <td>...</td>\n",
       "      <td>0</td>\n",
       "      <td>0</td>\n",
       "      <td>0</td>\n",
       "      <td>0</td>\n",
       "      <td>0</td>\n",
       "      <td>0</td>\n",
       "      <td>0</td>\n",
       "      <td>0</td>\n",
       "      <td>0</td>\n",
       "      <td>0</td>\n",
       "    </tr>\n",
       "  </tbody>\n",
       "</table>\n",
       "<p>5 rows × 101 columns</p>\n",
       "</div>"
      ],
      "text/plain": [
       "       Gender  Age  Scholarship  Hipertension  Diabetes  Alcoholism  \\\n",
       "88155       1   27            0             0         1           0   \n",
       "89615       1    2            0             0         0           0   \n",
       "78780       0   61            0             0         0           0   \n",
       "32436       0   17            0             0         0           0   \n",
       "46355       1   33            0             0         0           0   \n",
       "\n",
       "       SMS_received  _weekday_AppointmentDay  _day_AppointmentDay  \\\n",
       "88155             0                        1                    7   \n",
       "89615             1                        2                    1   \n",
       "78780             0                        0                    2   \n",
       "32436             0                        4                   13   \n",
       "46355             0                        2                   11   \n",
       "\n",
       "       _month_AppointmentDay  ...  Neighbourhood_SÃO JOSÉ  \\\n",
       "88155                      6  ...                       0   \n",
       "89615                      6  ...                       0   \n",
       "78780                      5  ...                       0   \n",
       "32436                      5  ...                       0   \n",
       "46355                      5  ...                       0   \n",
       "\n",
       "       Neighbourhood_SÃO PEDRO  Neighbourhood_TABUAZEIRO  \\\n",
       "88155                        0                         0   \n",
       "89615                        0                         0   \n",
       "78780                        0                         0   \n",
       "32436                        0                         0   \n",
       "46355                        0                         0   \n",
       "\n",
       "       Neighbourhood_UNIVERSITÁRIO  Neighbourhood_VILA RUBIM  Handcap_1  \\\n",
       "88155                            0                         0          0   \n",
       "89615                            0                         0          0   \n",
       "78780                            0                         0          0   \n",
       "32436                            0                         0          0   \n",
       "46355                            0                         0          0   \n",
       "\n",
       "       Handcap_2  Handcap_3  Handcap_4  noshow  \n",
       "88155          0          0          0       0  \n",
       "89615          0          0          0       0  \n",
       "78780          0          0          0       0  \n",
       "32436          0          0          0       0  \n",
       "46355          0          0          0       0  \n",
       "\n",
       "[5 rows x 101 columns]"
      ]
     },
     "execution_count": 26,
     "metadata": {},
     "output_type": "execute_result"
    }
   ],
   "source": [
    "XT_r.head()"
   ]
  },
  {
   "cell_type": "markdown",
   "metadata": {},
   "source": [
    "**RESHAPING DATASET**"
   ]
  },
  {
   "cell_type": "code",
   "execution_count": 27,
   "metadata": {},
   "outputs": [
    {
     "name": "stdout",
     "output_type": "stream",
     "text": [
      "[[ 1  1  0 ...  1  0  1]\n",
      " [27  2 61 ...  5 27 19]\n",
      " [ 0  0  0 ...  0  0  1]\n",
      " ...\n",
      " [ 0  0  0 ...  0  0  0]\n",
      " [ 0  0  0 ...  0  0  0]\n",
      " [ 0  0  0 ...  0  0  0]]\n",
      "[[0 0 0 ... 1 1 1]]\n",
      "(100, 123306)\n",
      "(1, 123306)\n"
     ]
    }
   ],
   "source": [
    "features = XT_r.drop(columns='noshow').values.T\n",
    "label = XT_r['noshow'].values.reshape(-1,1).T\n",
    "test_features = X_test.values.T\n",
    "test_label = Y_test.values.reshape(-1,1).T\n",
    "print(features)\n",
    "print(label)\n",
    "print(features.shape)\n",
    "print(label.shape)"
   ]
  },
  {
   "cell_type": "markdown",
   "metadata": {},
   "source": [
    "**DEFINING LAYER SIZES**"
   ]
  },
  {
   "cell_type": "code",
   "execution_count": 28,
   "metadata": {},
   "outputs": [],
   "source": [
    "def layer_sizes (X,Y,hidden_units):\n",
    "    \n",
    "    n_input = X.shape[0]\n",
    "    n_output = Y.shape[0]\n",
    "    n_hidden = hidden_units\n",
    "    \n",
    "    return (n_input, n_output, n_hidden)"
   ]
  },
  {
   "cell_type": "markdown",
   "metadata": {},
   "source": [
    "**WEIGHT & BIAS INITIALIZATION**"
   ]
  },
  {
   "cell_type": "code",
   "execution_count": 29,
   "metadata": {},
   "outputs": [],
   "source": [
    "def weight_bias (n_input,n_output, n_hidden):\n",
    "    np.random.seed(2)\n",
    "    w1 = np.random.randn(n_hidden,n_input)*0.01\n",
    "    b1 = np.zeros(shape=(n_hidden,1))\n",
    "    w2 = np.random.randn(n_output,n_hidden)*0.01\n",
    "    b2 = np.zeros(shape=(n_output,1))\n",
    "    \n",
    "    parameters = {'w1':w1,\n",
    "                  'b1':b1,\n",
    "                  'w2':w2,\n",
    "                  'b2':b2}\n",
    "    return parameters    "
   ]
  },
  {
   "cell_type": "markdown",
   "metadata": {},
   "source": [
    "**SIGMOID ACTIVATION**"
   ]
  },
  {
   "cell_type": "code",
   "execution_count": 30,
   "metadata": {},
   "outputs": [],
   "source": [
    "def sigmoid(z):\n",
    "    new_value = 1/(1+(np.exp(-z)))\n",
    "    return new_value"
   ]
  },
  {
   "cell_type": "markdown",
   "metadata": {},
   "source": [
    "**FORWARD PROPAGTION**"
   ]
  },
  {
   "cell_type": "code",
   "execution_count": 31,
   "metadata": {},
   "outputs": [],
   "source": [
    "def forward_prop(features,parameters) :\n",
    "    \n",
    "    w1 = parameters['w1']\n",
    "    w2 = parameters['w2']\n",
    "    b1 = parameters['b1']\n",
    "    b2 = parameters['b2']\n",
    "    \n",
    "    z1 = np.dot(w1,features) + b1\n",
    "    a1 = np.tanh(z1)\n",
    "    \n",
    "    z2 = np.dot(w2,a1) + b2\n",
    "    a2 = sigmoid(z2)\n",
    "    \n",
    "    cache = {'z1':z1,\n",
    "             'a1':a1,\n",
    "             'z2':z2,\n",
    "             'a2':a2}\n",
    "  \n",
    "    return a2,cache"
   ]
  },
  {
   "cell_type": "markdown",
   "metadata": {},
   "source": [
    "**COST FUNCTION**"
   ]
  },
  {
   "cell_type": "code",
   "execution_count": 32,
   "metadata": {},
   "outputs": [],
   "source": [
    "def cost(a2,label):\n",
    "    m = label.shape[1]\n",
    "    \n",
    "    logprobs = np.multiply(np.log(a2), label) + np.multiply((1-label),np.log(1-a2))\n",
    "    cost = -np.sum(logprobs) / m\n",
    "    cost_value = float(np.squeeze(cost))\n",
    "    \n",
    "    return cost_value\n",
    "    "
   ]
  },
  {
   "cell_type": "markdown",
   "metadata": {},
   "source": [
    "**BACK PROPAGATION**"
   ]
  },
  {
   "cell_type": "code",
   "execution_count": 33,
   "metadata": {},
   "outputs": [],
   "source": [
    "\n",
    "def back_propagation(parameters,cache, features, label) :\n",
    "    m = features.shape[1]\n",
    "    a1 = cache['a1']\n",
    "    a2 = cache['a2']\n",
    "    z1 = cache['z1']\n",
    "    z2 = cache['z2']\n",
    "    \n",
    "    w1 = parameters['w1']\n",
    "    w2 = parameters['w2']\n",
    "    \n",
    "    dz2 = a2 - label\n",
    "    dw2 = (1/m)*np.dot(dz2,a1.T) \n",
    "    db2 = (1/m)*np.sum(dz2,axis=1,keepdims = True)\n",
    "    dz1 = np.multiply(np.dot(w2.T,dz2),1 - np.power(a1, 2))\n",
    "    dw1 = (1 / m) * np.dot(dz1, features.T)\n",
    "    db1 = (1 / m) * np.sum(dz1, axis=1, keepdims=True)\n",
    "   \n",
    "    grads = {\"dw1\": dw1,\n",
    "             \"db1\": db1,\n",
    "             \"dw2\": dw2,\n",
    "             \"db2\": db2}\n",
    "    \n",
    "    return grads  "
   ]
  },
  {
   "cell_type": "markdown",
   "metadata": {},
   "source": [
    "**WEIGHT & BIAS UPDATE**"
   ]
  },
  {
   "cell_type": "code",
   "execution_count": 34,
   "metadata": {},
   "outputs": [],
   "source": [
    "def update_parameters(parameters,grads,learning_rate=1.2):\n",
    "    w1 = parameters['w1']\n",
    "    b1 = parameters['b1']\n",
    "    w2 = parameters['w2']\n",
    "    b2 = parameters['b2']\n",
    "    \n",
    "    dw1 = grads['dw1']\n",
    "    dw2 = grads['dw2']\n",
    "    db1 = grads['db1']\n",
    "    db2 = grads['db2']\n",
    "    \n",
    "    w1 = w1 - learning_rate*dw1\n",
    "    w2 = w2 - learning_rate*dw2\n",
    "    b1 = b1 - learning_rate*db1\n",
    "    b2 = b2 - learning_rate*db2\n",
    "    \n",
    "    parameters = {'w1':w1,\n",
    "                  'b1':b1,\n",
    "                  'w2':w2,\n",
    "                  'b2':b2}\n",
    "    return parameters    "
   ]
  },
  {
   "cell_type": "markdown",
   "metadata": {},
   "source": [
    "**COMPLETE MODEL**"
   ]
  },
  {
   "cell_type": "code",
   "execution_count": 35,
   "metadata": {},
   "outputs": [],
   "source": [
    "def dnn_model(features, label,n_hidden,iterations,print_cost=False):\n",
    "    n_input,n_output,n_hidden = layer_sizes(features,label,n_hidden)\n",
    "    parameters = weight_bias(n_input,n_output,n_hidden)\n",
    "    cost_value = 0\n",
    "    \n",
    "    for i in range(0, iterations):\n",
    "        a2,cache = forward_prop(features,parameters)\n",
    "        cost_value = cost(a2,label)\n",
    "        grads = back_propagation(parameters,cache,features,label)\n",
    "        parameters = update_parameters(parameters,grads,learning_rate=0.05)\n",
    "        \n",
    "        if print_cost and i % 1 ==0:\n",
    "            print('Iteration:', i,' ', 'cost ',cost_value)\n",
    "            \n",
    "    return parameters\n"
   ]
  },
  {
   "cell_type": "code",
   "execution_count": 36,
   "metadata": {},
   "outputs": [
    {
     "name": "stdout",
     "output_type": "stream",
     "text": [
      "Iteration: 0   cost  0.6935669428935809\n",
      "Iteration: 1   cost  0.6894353622120346\n",
      "Iteration: 2   cost  0.6865235056310921\n",
      "Iteration: 3   cost  0.6839277218440888\n",
      "Iteration: 4   cost  0.6814845689344796\n",
      "Iteration: 5   cost  0.6791520100977954\n",
      "Iteration: 6   cost  0.6769178764559615\n",
      "Iteration: 7   cost  0.6747831106418082\n",
      "Iteration: 8   cost  0.6727559216903677\n",
      "Iteration: 9   cost  0.6708477570189144\n",
      "Iteration: 10   cost  0.6690698091737497\n",
      "Iteration: 11   cost  0.6674301495289198\n",
      "Iteration: 12   cost  0.6659319950498104\n",
      "Iteration: 13   cost  0.6645734368791363\n",
      "Iteration: 14   cost  0.6633483445994617\n",
      "Iteration: 15   cost  0.662247744729836\n",
      "Iteration: 16   cost  0.6612610944764222\n",
      "Iteration: 17   cost  0.6603772272719207\n",
      "Iteration: 18   cost  0.6595849840785694\n",
      "Iteration: 19   cost  0.6588736140273683\n"
     ]
    }
   ],
   "source": [
    "parameters = dnn_model(features, label, 128, 20,True)"
   ]
  },
  {
   "cell_type": "markdown",
   "metadata": {},
   "source": [
    "**PREDICTIONS**"
   ]
  },
  {
   "cell_type": "code",
   "execution_count": 37,
   "metadata": {},
   "outputs": [],
   "source": [
    "def Prediction(parameters,features):\n",
    "    a2, cache = forward_prop(test_features,parameters)\n",
    "    predictions = np.round(a2)\n",
    "    \n",
    "    return predictions"
   ]
  },
  {
   "cell_type": "markdown",
   "metadata": {},
   "source": [
    "**ACCURACY**"
   ]
  },
  {
   "cell_type": "code",
   "execution_count": 38,
   "metadata": {},
   "outputs": [
    {
     "name": "stdout",
     "output_type": "stream",
     "text": [
      "Accuracy: 66%\n"
     ]
    }
   ],
   "source": [
    "predictions = Prediction(parameters,test_features)\n",
    "print ('Accuracy: %d' % float((np.dot(test_label,predictions.T) + np.dot(1-test_label,1-predictions.T))/float(test_label.size)*100) + '%')"
   ]
  },
  {
   "cell_type": "markdown",
   "metadata": {},
   "source": [
    "**SENSITIVITY**"
   ]
  },
  {
   "cell_type": "code",
   "execution_count": 39,
   "metadata": {},
   "outputs": [
    {
     "data": {
      "text/plain": [
       "31.46"
      ]
     },
     "execution_count": 39,
     "metadata": {},
     "output_type": "execute_result"
    }
   ],
   "source": [
    "TP = np.squeeze(np.dot(test_label,predictions.T))\n",
    "TN = np.squeeze(np.dot(1-test_label,1-predictions.T))\n",
    "FN = np.squeeze(test_label[np.where(test_label == 0)].shape[0]  -   np.dot(1-test_label,1-predictions.T))\n",
    "sensitivity = np.round((TP*100/(TP+FN)),2)\n",
    "sensitivity"
   ]
  },
  {
   "cell_type": "markdown",
   "metadata": {},
   "source": [
    "**PRECISION**"
   ]
  },
  {
   "cell_type": "code",
   "execution_count": 41,
   "metadata": {},
   "outputs": [
    {
     "name": "stdout",
     "output_type": "stream",
     "text": [
      "31.457092525794817\n"
     ]
    }
   ],
   "source": [
    "FP = np.squeeze(predictions[np.where(predictions == 1)].shape[0])  -   TP\n",
    "print((TP*100)/(TP+FP))"
   ]
  }
 ],
 "metadata": {
  "kernelspec": {
   "display_name": "Python 3",
   "language": "python",
   "name": "python3"
  },
  "language_info": {
   "codemirror_mode": {
    "name": "ipython",
    "version": 3
   },
   "file_extension": ".py",
   "mimetype": "text/x-python",
   "name": "python",
   "nbconvert_exporter": "python",
   "pygments_lexer": "ipython3",
   "version": "3.6.8"
  }
 },
 "nbformat": 4,
 "nbformat_minor": 2
}
